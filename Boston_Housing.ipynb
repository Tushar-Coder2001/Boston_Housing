{
  "nbformat": 4,
  "nbformat_minor": 0,
  "metadata": {
    "colab": {
      "name": "Boston_Housing.ipynb",
      "provenance": []
    },
    "kernelspec": {
      "name": "python3",
      "display_name": "Python 3"
    },
    "language_info": {
      "name": "python"
    }
  },
  "cells": [
    {
      "cell_type": "code",
      "execution_count": null,
      "metadata": {
        "id": "ScT6NwzLe9Om"
      },
      "outputs": [],
      "source": [
        "import matplotlib.pyplot as plt\n",
        "import numpy as np\n",
        "from mpl_toolkits.mplot3d import Axes3D\n",
        "import tensorflow as tf\n",
        "import pandas as pd"
      ]
    },
    {
      "cell_type": "markdown",
      "source": [
        "Loading the Data"
      ],
      "metadata": {
        "id": "Qks-Ic1Nu-eZ"
      }
    },
    {
      "cell_type": "code",
      "source": [
        "data=tf.keras.datasets.boston_housing.load_data()\n",
        "(x_train,y_train),(x_test,y_test)=data\n",
        "\n",
        "\n",
        "#x_train=tf.convert_to_tensor(x_train)\n",
        "#y_train=tf.convert_to_tensor(y_train)\n",
        "print(x_train.shape,y_train.shape)"
      ],
      "metadata": {
        "id": "UHsYhqEze9_X",
        "colab": {
          "base_uri": "https://localhost:8080/"
        },
        "outputId": "a777565d-b346-4297-915c-c432ea16657b"
      },
      "execution_count": null,
      "outputs": [
        {
          "output_type": "stream",
          "name": "stdout",
          "text": [
            "(404, 13) (404,)\n"
          ]
        }
      ]
    },
    {
      "cell_type": "markdown",
      "source": [
        "Preprocessing"
      ],
      "metadata": {
        "id": "qikYT9NIu9Ef"
      }
    },
    {
      "cell_type": "code",
      "source": [
        "from sklearn.preprocessing import StandardScaler\n",
        "scaler = StandardScaler()\n",
        "# first we fit the scaler on the training dataset\n",
        "scaler.fit(x_train)\n",
        "\n",
        "# then we call the transform method to scale both the training and testing data\n",
        "X_train_scaled = scaler.transform(x_train)\n",
        "X_test_scaled = scaler.transform(x_test)\n",
        "\n",
        "# a sample output\n",
        "print(X_train_scaled[0])"
      ],
      "metadata": {
        "colab": {
          "base_uri": "https://localhost:8080/"
        },
        "id": "sZTEqI1Brd3U",
        "outputId": "436bd04e-c139-4dc2-fb30-377671b9bca1"
      },
      "execution_count": null,
      "outputs": [
        {
          "output_type": "stream",
          "name": "stdout",
          "text": [
            "[-0.27224633 -0.48361547 -0.43576161 -0.25683275 -0.1652266  -0.1764426\n",
            "  0.81306188  0.1166983  -0.62624905 -0.59517003  1.14850044  0.44807713\n",
            "  0.8252202 ]\n"
          ]
        }
      ]
    },
    {
      "cell_type": "markdown",
      "source": [
        "__NN__"
      ],
      "metadata": {
        "id": "NHHNrcuQ6my3"
      }
    },
    {
      "cell_type": "code",
      "source": [
        "from keras import models, layers\n",
        "model = models.Sequential()\n",
        "model.add(layers.Dense(8, activation='relu', input_shape=[x_train.shape[1]]))\n",
        "model.add(layers.Dense(16, activation='relu'))\n",
        "\n",
        "# output layer\n",
        "model.add(layers.Dense(1))"
      ],
      "metadata": {
        "id": "cDbUqrEdre8s"
      },
      "execution_count": null,
      "outputs": []
    },
    {
      "cell_type": "code",
      "source": [
        "model.compile(optimizer='rmsprop', loss='mse', metrics=['mae'])"
      ],
      "metadata": {
        "id": "dUUqc_MkrfE1"
      },
      "execution_count": null,
      "outputs": []
    },
    {
      "cell_type": "code",
      "source": [
        "history = model.fit(X_train_scaled, y_train, validation_split=0.2, epochs=100)"
      ],
      "metadata": {
        "id": "xYB_iYQBrfLp",
        "colab": {
          "base_uri": "https://localhost:8080/"
        },
        "outputId": "c957daa3-7463-47cf-bab8-ca7d954092c5"
      },
      "execution_count": null,
      "outputs": [
        {
          "output_type": "stream",
          "name": "stdout",
          "text": [
            "Epoch 1/100\n",
            "11/11 [==============================] - 1s 27ms/step - loss: 551.4766 - mae: 21.6653 - val_loss: 618.5724 - val_mae: 23.1497\n",
            "Epoch 2/100\n",
            "11/11 [==============================] - 0s 4ms/step - loss: 539.0127 - mae: 21.3777 - val_loss: 606.7040 - val_mae: 22.9000\n",
            "Epoch 3/100\n",
            "11/11 [==============================] - 0s 6ms/step - loss: 526.5080 - mae: 21.0960 - val_loss: 594.6808 - val_mae: 22.6381\n",
            "Epoch 4/100\n",
            "11/11 [==============================] - 0s 5ms/step - loss: 513.6097 - mae: 20.7937 - val_loss: 581.8411 - val_mae: 22.3554\n",
            "Epoch 5/100\n",
            "11/11 [==============================] - 0s 6ms/step - loss: 499.7379 - mae: 20.4650 - val_loss: 568.1548 - val_mae: 22.0464\n",
            "Epoch 6/100\n",
            "11/11 [==============================] - 0s 6ms/step - loss: 484.7613 - mae: 20.1096 - val_loss: 551.9755 - val_mae: 21.6815\n",
            "Epoch 7/100\n",
            "11/11 [==============================] - 0s 5ms/step - loss: 468.0518 - mae: 19.7069 - val_loss: 534.6478 - val_mae: 21.2851\n",
            "Epoch 8/100\n",
            "11/11 [==============================] - 0s 4ms/step - loss: 450.7475 - mae: 19.2785 - val_loss: 519.7671 - val_mae: 20.9190\n",
            "Epoch 9/100\n",
            "11/11 [==============================] - 0s 5ms/step - loss: 434.6137 - mae: 18.8513 - val_loss: 502.8038 - val_mae: 20.5039\n",
            "Epoch 10/100\n",
            "11/11 [==============================] - 0s 6ms/step - loss: 416.6057 - mae: 18.3729 - val_loss: 484.0858 - val_mae: 20.0346\n",
            "Epoch 11/100\n",
            "11/11 [==============================] - 0s 6ms/step - loss: 397.2058 - mae: 17.8542 - val_loss: 463.3178 - val_mae: 19.5136\n",
            "Epoch 12/100\n",
            "11/11 [==============================] - 0s 5ms/step - loss: 376.3413 - mae: 17.2941 - val_loss: 442.4978 - val_mae: 18.9660\n",
            "Epoch 13/100\n",
            "11/11 [==============================] - 0s 5ms/step - loss: 355.7177 - mae: 16.7136 - val_loss: 419.8227 - val_mae: 18.3645\n",
            "Epoch 14/100\n",
            "11/11 [==============================] - 0s 5ms/step - loss: 334.2347 - mae: 16.1023 - val_loss: 398.6124 - val_mae: 17.7763\n",
            "Epoch 15/100\n",
            "11/11 [==============================] - 0s 7ms/step - loss: 313.5405 - mae: 15.4771 - val_loss: 376.1685 - val_mae: 17.1440\n",
            "Epoch 16/100\n",
            "11/11 [==============================] - 0s 4ms/step - loss: 291.7825 - mae: 14.8278 - val_loss: 354.2041 - val_mae: 16.4997\n",
            "Epoch 17/100\n",
            "11/11 [==============================] - 0s 7ms/step - loss: 270.3199 - mae: 14.1670 - val_loss: 328.7069 - val_mae: 15.7212\n",
            "Epoch 18/100\n",
            "11/11 [==============================] - 0s 6ms/step - loss: 247.2198 - mae: 13.4276 - val_loss: 307.1748 - val_mae: 15.0008\n",
            "Epoch 19/100\n",
            "11/11 [==============================] - 0s 4ms/step - loss: 226.9591 - mae: 12.7291 - val_loss: 285.1269 - val_mae: 14.2729\n",
            "Epoch 20/100\n",
            "11/11 [==============================] - 0s 5ms/step - loss: 207.0728 - mae: 12.0147 - val_loss: 263.5824 - val_mae: 13.5124\n",
            "Epoch 21/100\n",
            "11/11 [==============================] - 0s 6ms/step - loss: 187.7888 - mae: 11.3506 - val_loss: 240.2160 - val_mae: 12.6345\n",
            "Epoch 22/100\n",
            "11/11 [==============================] - 0s 7ms/step - loss: 168.2236 - mae: 10.6477 - val_loss: 220.1902 - val_mae: 11.8780\n",
            "Epoch 23/100\n",
            "11/11 [==============================] - 0s 5ms/step - loss: 150.8440 - mae: 10.0096 - val_loss: 198.4701 - val_mae: 11.0273\n",
            "Epoch 24/100\n",
            "11/11 [==============================] - 0s 6ms/step - loss: 134.1027 - mae: 9.3772 - val_loss: 181.8189 - val_mae: 10.3200\n",
            "Epoch 25/100\n",
            "11/11 [==============================] - 0s 5ms/step - loss: 120.9639 - mae: 8.8402 - val_loss: 163.6537 - val_mae: 9.5965\n",
            "Epoch 26/100\n",
            "11/11 [==============================] - 0s 7ms/step - loss: 108.6006 - mae: 8.3368 - val_loss: 152.0648 - val_mae: 9.1296\n",
            "Epoch 27/100\n",
            "11/11 [==============================] - 0s 4ms/step - loss: 99.6201 - mae: 7.9071 - val_loss: 141.2146 - val_mae: 8.6697\n",
            "Epoch 28/100\n",
            "11/11 [==============================] - 0s 6ms/step - loss: 91.4635 - mae: 7.4717 - val_loss: 130.2957 - val_mae: 8.2165\n",
            "Epoch 29/100\n",
            "11/11 [==============================] - 0s 5ms/step - loss: 84.2273 - mae: 7.1289 - val_loss: 120.4939 - val_mae: 7.8190\n",
            "Epoch 30/100\n",
            "11/11 [==============================] - 0s 4ms/step - loss: 78.0482 - mae: 6.8174 - val_loss: 112.9646 - val_mae: 7.4949\n",
            "Epoch 31/100\n",
            "11/11 [==============================] - 0s 4ms/step - loss: 73.0935 - mae: 6.5565 - val_loss: 108.3325 - val_mae: 7.2773\n",
            "Epoch 32/100\n",
            "11/11 [==============================] - 0s 5ms/step - loss: 69.0496 - mae: 6.3352 - val_loss: 102.9983 - val_mae: 7.0428\n",
            "Epoch 33/100\n",
            "11/11 [==============================] - 0s 5ms/step - loss: 65.0201 - mae: 6.0898 - val_loss: 97.3203 - val_mae: 6.7955\n",
            "Epoch 34/100\n",
            "11/11 [==============================] - 0s 5ms/step - loss: 61.0372 - mae: 5.8856 - val_loss: 92.5222 - val_mae: 6.5783\n",
            "Epoch 35/100\n",
            "11/11 [==============================] - 0s 5ms/step - loss: 57.5305 - mae: 5.6490 - val_loss: 87.4572 - val_mae: 6.3549\n",
            "Epoch 36/100\n",
            "11/11 [==============================] - 0s 5ms/step - loss: 53.9336 - mae: 5.4345 - val_loss: 83.7977 - val_mae: 6.1861\n",
            "Epoch 37/100\n",
            "11/11 [==============================] - 0s 7ms/step - loss: 51.1505 - mae: 5.2561 - val_loss: 79.8082 - val_mae: 6.0137\n",
            "Epoch 38/100\n",
            "11/11 [==============================] - 0s 6ms/step - loss: 48.7023 - mae: 5.0940 - val_loss: 76.3450 - val_mae: 5.8464\n",
            "Epoch 39/100\n",
            "11/11 [==============================] - 0s 5ms/step - loss: 46.2992 - mae: 4.9373 - val_loss: 72.7746 - val_mae: 5.6861\n",
            "Epoch 40/100\n",
            "11/11 [==============================] - 0s 7ms/step - loss: 44.1939 - mae: 4.7792 - val_loss: 70.0309 - val_mae: 5.5586\n",
            "Epoch 41/100\n",
            "11/11 [==============================] - 0s 4ms/step - loss: 42.0246 - mae: 4.6562 - val_loss: 66.6658 - val_mae: 5.4033\n",
            "Epoch 42/100\n",
            "11/11 [==============================] - 0s 6ms/step - loss: 39.8512 - mae: 4.4849 - val_loss: 63.0368 - val_mae: 5.2230\n",
            "Epoch 43/100\n",
            "11/11 [==============================] - 0s 5ms/step - loss: 38.0228 - mae: 4.4009 - val_loss: 60.2905 - val_mae: 5.0895\n",
            "Epoch 44/100\n",
            "11/11 [==============================] - 0s 5ms/step - loss: 36.5092 - mae: 4.3114 - val_loss: 58.8777 - val_mae: 5.0333\n",
            "Epoch 45/100\n",
            "11/11 [==============================] - 0s 5ms/step - loss: 35.3544 - mae: 4.2328 - val_loss: 56.6068 - val_mae: 4.9312\n",
            "Epoch 46/100\n",
            "11/11 [==============================] - 0s 5ms/step - loss: 33.9258 - mae: 4.1317 - val_loss: 54.8945 - val_mae: 4.8408\n",
            "Epoch 47/100\n",
            "11/11 [==============================] - 0s 7ms/step - loss: 32.5043 - mae: 4.0279 - val_loss: 52.3605 - val_mae: 4.7321\n",
            "Epoch 48/100\n",
            "11/11 [==============================] - 0s 5ms/step - loss: 31.3210 - mae: 3.9581 - val_loss: 50.3310 - val_mae: 4.6233\n",
            "Epoch 49/100\n",
            "11/11 [==============================] - 0s 5ms/step - loss: 30.1985 - mae: 3.8762 - val_loss: 48.3888 - val_mae: 4.5398\n",
            "Epoch 50/100\n",
            "11/11 [==============================] - 0s 5ms/step - loss: 29.1483 - mae: 3.8266 - val_loss: 47.2609 - val_mae: 4.4799\n",
            "Epoch 51/100\n",
            "11/11 [==============================] - 0s 6ms/step - loss: 28.2941 - mae: 3.7516 - val_loss: 45.4119 - val_mae: 4.4095\n",
            "Epoch 52/100\n",
            "11/11 [==============================] - 0s 5ms/step - loss: 27.4366 - mae: 3.6987 - val_loss: 43.0418 - val_mae: 4.3364\n",
            "Epoch 53/100\n",
            "11/11 [==============================] - 0s 5ms/step - loss: 26.5793 - mae: 3.6485 - val_loss: 41.8721 - val_mae: 4.2654\n",
            "Epoch 54/100\n",
            "11/11 [==============================] - 0s 6ms/step - loss: 25.8623 - mae: 3.5968 - val_loss: 40.4546 - val_mae: 4.2064\n",
            "Epoch 55/100\n",
            "11/11 [==============================] - 0s 5ms/step - loss: 25.1480 - mae: 3.5436 - val_loss: 38.7316 - val_mae: 4.1640\n",
            "Epoch 56/100\n",
            "11/11 [==============================] - 0s 7ms/step - loss: 24.4177 - mae: 3.4950 - val_loss: 37.3432 - val_mae: 4.0967\n",
            "Epoch 57/100\n",
            "11/11 [==============================] - 0s 4ms/step - loss: 23.8440 - mae: 3.4820 - val_loss: 36.5066 - val_mae: 4.0173\n",
            "Epoch 58/100\n",
            "11/11 [==============================] - 0s 6ms/step - loss: 23.2341 - mae: 3.4258 - val_loss: 35.3692 - val_mae: 3.9792\n",
            "Epoch 59/100\n",
            "11/11 [==============================] - 0s 5ms/step - loss: 22.6344 - mae: 3.3751 - val_loss: 34.1797 - val_mae: 3.9298\n",
            "Epoch 60/100\n",
            "11/11 [==============================] - 0s 5ms/step - loss: 22.0427 - mae: 3.3339 - val_loss: 32.8477 - val_mae: 3.8857\n",
            "Epoch 61/100\n",
            "11/11 [==============================] - 0s 5ms/step - loss: 21.5804 - mae: 3.2994 - val_loss: 31.5231 - val_mae: 3.8493\n",
            "Epoch 62/100\n",
            "11/11 [==============================] - 0s 6ms/step - loss: 20.9930 - mae: 3.2802 - val_loss: 30.6278 - val_mae: 3.7631\n",
            "Epoch 63/100\n",
            "11/11 [==============================] - 0s 4ms/step - loss: 20.5163 - mae: 3.2316 - val_loss: 29.8471 - val_mae: 3.7410\n",
            "Epoch 64/100\n",
            "11/11 [==============================] - 0s 5ms/step - loss: 20.0499 - mae: 3.2011 - val_loss: 29.1712 - val_mae: 3.6886\n",
            "Epoch 65/100\n",
            "11/11 [==============================] - 0s 6ms/step - loss: 19.5411 - mae: 3.1658 - val_loss: 28.5291 - val_mae: 3.6645\n",
            "Epoch 66/100\n",
            "11/11 [==============================] - 0s 4ms/step - loss: 19.1350 - mae: 3.1166 - val_loss: 27.5194 - val_mae: 3.6139\n",
            "Epoch 67/100\n",
            "11/11 [==============================] - 0s 4ms/step - loss: 18.6581 - mae: 3.0955 - val_loss: 26.3859 - val_mae: 3.5762\n",
            "Epoch 68/100\n",
            "11/11 [==============================] - 0s 6ms/step - loss: 18.2880 - mae: 3.0844 - val_loss: 25.7088 - val_mae: 3.5382\n",
            "Epoch 69/100\n",
            "11/11 [==============================] - 0s 6ms/step - loss: 17.8812 - mae: 3.0433 - val_loss: 25.0839 - val_mae: 3.5554\n",
            "Epoch 70/100\n",
            "11/11 [==============================] - 0s 5ms/step - loss: 17.7100 - mae: 3.0369 - val_loss: 24.2480 - val_mae: 3.4719\n",
            "Epoch 71/100\n",
            "11/11 [==============================] - 0s 6ms/step - loss: 17.2587 - mae: 2.9907 - val_loss: 23.7264 - val_mae: 3.4489\n",
            "Epoch 72/100\n",
            "11/11 [==============================] - 0s 5ms/step - loss: 17.0458 - mae: 2.9766 - val_loss: 23.3033 - val_mae: 3.4377\n",
            "Epoch 73/100\n",
            "11/11 [==============================] - 0s 6ms/step - loss: 16.8130 - mae: 2.9604 - val_loss: 23.0134 - val_mae: 3.4064\n",
            "Epoch 74/100\n",
            "11/11 [==============================] - 0s 5ms/step - loss: 16.5649 - mae: 2.9266 - val_loss: 22.6109 - val_mae: 3.3999\n",
            "Epoch 75/100\n",
            "11/11 [==============================] - 0s 7ms/step - loss: 16.3039 - mae: 2.9115 - val_loss: 22.3510 - val_mae: 3.3608\n",
            "Epoch 76/100\n",
            "11/11 [==============================] - 0s 4ms/step - loss: 16.1198 - mae: 2.8843 - val_loss: 22.0258 - val_mae: 3.3328\n",
            "Epoch 77/100\n",
            "11/11 [==============================] - 0s 7ms/step - loss: 15.7892 - mae: 2.8460 - val_loss: 22.0091 - val_mae: 3.3029\n",
            "Epoch 78/100\n",
            "11/11 [==============================] - 0s 5ms/step - loss: 15.6999 - mae: 2.8364 - val_loss: 21.3460 - val_mae: 3.3121\n",
            "Epoch 79/100\n",
            "11/11 [==============================] - 0s 6ms/step - loss: 15.4367 - mae: 2.8306 - val_loss: 21.6313 - val_mae: 3.2890\n",
            "Epoch 80/100\n",
            "11/11 [==============================] - 0s 5ms/step - loss: 15.3788 - mae: 2.8326 - val_loss: 21.1088 - val_mae: 3.2995\n",
            "Epoch 81/100\n",
            "11/11 [==============================] - 0s 5ms/step - loss: 15.0841 - mae: 2.7961 - val_loss: 21.0865 - val_mae: 3.2602\n",
            "Epoch 82/100\n",
            "11/11 [==============================] - 0s 4ms/step - loss: 15.0108 - mae: 2.7871 - val_loss: 20.5115 - val_mae: 3.2444\n",
            "Epoch 83/100\n",
            "11/11 [==============================] - 0s 7ms/step - loss: 14.8531 - mae: 2.7844 - val_loss: 20.3343 - val_mae: 3.2379\n",
            "Epoch 84/100\n",
            "11/11 [==============================] - 0s 6ms/step - loss: 14.6434 - mae: 2.7596 - val_loss: 19.9917 - val_mae: 3.2041\n",
            "Epoch 85/100\n",
            "11/11 [==============================] - 0s 5ms/step - loss: 14.4741 - mae: 2.7446 - val_loss: 19.6934 - val_mae: 3.1916\n",
            "Epoch 86/100\n",
            "11/11 [==============================] - 0s 5ms/step - loss: 14.3959 - mae: 2.7530 - val_loss: 19.6817 - val_mae: 3.1664\n",
            "Epoch 87/100\n",
            "11/11 [==============================] - 0s 7ms/step - loss: 14.3195 - mae: 2.7427 - val_loss: 19.3290 - val_mae: 3.1596\n",
            "Epoch 88/100\n",
            "11/11 [==============================] - 0s 6ms/step - loss: 14.0795 - mae: 2.7173 - val_loss: 19.1971 - val_mae: 3.1417\n",
            "Epoch 89/100\n",
            "11/11 [==============================] - 0s 5ms/step - loss: 13.9766 - mae: 2.7065 - val_loss: 19.0352 - val_mae: 3.1391\n",
            "Epoch 90/100\n",
            "11/11 [==============================] - 0s 7ms/step - loss: 13.8864 - mae: 2.7199 - val_loss: 18.8350 - val_mae: 3.1183\n",
            "Epoch 91/100\n",
            "11/11 [==============================] - 0s 6ms/step - loss: 13.6539 - mae: 2.7054 - val_loss: 18.7650 - val_mae: 3.0769\n",
            "Epoch 92/100\n",
            "11/11 [==============================] - 0s 6ms/step - loss: 13.6209 - mae: 2.7003 - val_loss: 18.7024 - val_mae: 3.0921\n",
            "Epoch 93/100\n",
            "11/11 [==============================] - 0s 4ms/step - loss: 13.5179 - mae: 2.6652 - val_loss: 18.6662 - val_mae: 3.1178\n",
            "Epoch 94/100\n",
            "11/11 [==============================] - 0s 6ms/step - loss: 13.5426 - mae: 2.6639 - val_loss: 18.6210 - val_mae: 3.1110\n",
            "Epoch 95/100\n",
            "11/11 [==============================] - 0s 4ms/step - loss: 13.4200 - mae: 2.6433 - val_loss: 18.4882 - val_mae: 3.1181\n",
            "Epoch 96/100\n",
            "11/11 [==============================] - 0s 8ms/step - loss: 13.3630 - mae: 2.6430 - val_loss: 18.0857 - val_mae: 3.0769\n",
            "Epoch 97/100\n",
            "11/11 [==============================] - 0s 7ms/step - loss: 13.1935 - mae: 2.6425 - val_loss: 17.8522 - val_mae: 3.0336\n",
            "Epoch 98/100\n",
            "11/11 [==============================] - 0s 6ms/step - loss: 13.0812 - mae: 2.6482 - val_loss: 17.8466 - val_mae: 3.0282\n",
            "Epoch 99/100\n",
            "11/11 [==============================] - 0s 5ms/step - loss: 13.0125 - mae: 2.6242 - val_loss: 17.8536 - val_mae: 3.0497\n",
            "Epoch 100/100\n",
            "11/11 [==============================] - 0s 6ms/step - loss: 12.8888 - mae: 2.6267 - val_loss: 17.8473 - val_mae: 3.0431\n"
          ]
        }
      ]
    },
    {
      "cell_type": "code",
      "source": [
        "model.evaluate(X_test_scaled, y_test)"
      ],
      "metadata": {
        "id": "RX7wYK33rfSB",
        "colab": {
          "base_uri": "https://localhost:8080/"
        },
        "outputId": "9fa2f814-327d-4190-fd21-3463eab29ebb"
      },
      "execution_count": null,
      "outputs": [
        {
          "output_type": "stream",
          "name": "stdout",
          "text": [
            "4/4 [==============================] - 0s 3ms/step - loss: 23.1194 - mae: 3.5129\n"
          ]
        },
        {
          "output_type": "execute_result",
          "data": {
            "text/plain": [
              "[23.11939239501953, 3.512904644012451]"
            ]
          },
          "metadata": {},
          "execution_count": 12
        }
      ]
    },
    {
      "cell_type": "code",
      "source": [
        "plt.plot(X_test_scaled,label='pred')\n",
        "#plt.plot(y_test,label='test')\n",
        "plt.legend()\n",
        "plt.show()"
      ],
      "metadata": {
        "colab": {
          "base_uri": "https://localhost:8080/",
          "height": 265
        },
        "id": "XyQuRZHKxBsQ",
        "outputId": "787479bd-3694-4973-d757-4c395e0d52c5"
      },
      "execution_count": null,
      "outputs": [
        {
          "output_type": "display_data",
          "data": {
            "text/plain": [
              "<Figure size 432x288 with 1 Axes>"
            ],
            "image/png": "[encoded data removed]"
          },
          "metadata": {
            "needs_background": "light"
          }
        }
      ]
    },
    {
      "cell_type": "code",
      "source": [
        ""
      ],
      "metadata": {
        "id": "Nw_R8nUDxB01"
      },
      "execution_count": null,
      "outputs": []
    },
    {
      "cell_type": "code",
      "source": [
        ""
      ],
      "metadata": {
        "id": "pqK9VfvzJNBu"
      },
      "execution_count": null,
      "outputs": []
    },
    {
      "cell_type": "code",
      "source": [
        ""
      ],
      "metadata": {
        "id": "Fv52YXmDJNJV"
      },
      "execution_count": null,
      "outputs": []
    },
    {
      "cell_type": "code",
      "source": [
        ""
      ],
      "metadata": {
        "id": "Od6bE6WkJNR9"
      },
      "execution_count": null,
      "outputs": []
    },
    {
      "cell_type": "markdown",
      "source": [
        "Sklearn#########################################################################"
      ],
      "metadata": {
        "id": "Tc0yJtnk1CNy"
      }
    },
    {
      "cell_type": "code",
      "source": [
        "from sklearn import linear_model"
      ],
      "metadata": {
        "id": "WkbLyagTxB8D"
      },
      "execution_count": null,
      "outputs": []
    },
    {
      "cell_type": "code",
      "source": [
        "reg=linear_model.LinearRegression()"
      ],
      "metadata": {
        "id": "Rc29K7ioxCCu"
      },
      "execution_count": null,
      "outputs": []
    },
    {
      "cell_type": "code",
      "source": [
        "reg.fit(x_train,y_train)"
      ],
      "metadata": {
        "id": "m7Vw7zizxCJC",
        "colab": {
          "base_uri": "https://localhost:8080/"
        },
        "outputId": "79a7c40e-41cd-4857-86fa-854186a661cf"
      },
      "execution_count": null,
      "outputs": [
        {
          "output_type": "execute_result",
          "data": {
            "text/plain": [
              "LinearRegression()"
            ]
          },
          "metadata": {},
          "execution_count": 16
        }
      ]
    },
    {
      "cell_type": "code",
      "source": [
        "print(reg.coef_)"
      ],
      "metadata": {
        "colab": {
          "base_uri": "https://localhost:8080/"
        },
        "id": "j7XqK1rq28wv",
        "outputId": "660dea70-8e91-41d5-f250-aaec4d4f2fdd"
      },
      "execution_count": null,
      "outputs": [
        {
          "output_type": "stream",
          "name": "stdout",
          "text": [
            "[-1.19997513e-01  5.70003304e-02  3.98379660e-03  4.12698187e+00\n",
            " -2.05002963e+01  3.38024903e+00  7.56807584e-03 -1.71189793e+00\n",
            "  3.34747537e-01 -1.17797225e-02 -9.02318039e-01  8.71912756e-03\n",
            " -5.55842510e-01]\n"
          ]
        }
      ]
    },
    {
      "cell_type": "code",
      "source": [
        "y_pred=reg.predict(x_test)\n",
        "y_pred"
      ],
      "metadata": {
        "colab": {
          "base_uri": "https://localhost:8080/"
        },
        "id": "wgDEpkZM285F",
        "outputId": "68b05a33-2ee9-46bd-8330-64355c3b3478"
      },
      "execution_count": null,
      "outputs": [
        {
          "output_type": "execute_result",
          "data": {
            "text/plain": [
              "array([ 9.69267239, 21.05859431, 20.94145461, 34.25223414, 25.95902598,\n",
              "       20.56741038, 28.15310405, 25.07113862, 20.30519458, 22.82489511,\n",
              "       20.29027213, 18.07938917, 16.46141024, 35.31166595, 19.41369959,\n",
              "       19.34727116, 24.58140904, 21.01346252, 19.99079236, 23.79286427,\n",
              "       12.20780045, 17.14218992, 22.51468752, 12.92570511, 21.18070615,\n",
              "       23.94073547, 33.46176314, 24.2631555 , 13.35213096, 20.71939252,\n",
              "       23.45082103, 19.1486881 , 36.09743765, 23.47113531, 19.03141995,\n",
              "        5.92425733, 14.02090469, 22.96425377, 16.01731242, 27.09134249,\n",
              "       22.06997029, 28.61755389, 17.75679772, 34.75579014, 31.29455712,\n",
              "       24.73234165, 31.12655323, 18.09268992, 22.62638989, 24.21208909,\n",
              "       30.5854317 , 18.71860574, 10.50163617, 13.73779292, 34.4022841 ,\n",
              "       27.53140317, 18.08151522, 40.05101982, 37.63271513, 24.64021422,\n",
              "       25.73823434, 20.64369987, 20.33514699, 21.38393124, 24.63485497,\n",
              "       23.53071805, 17.42141466, 26.76911736,  3.83782148, 11.97063636,\n",
              "       24.2602519 , 23.67191799, 23.66639182,  8.4403269 , 28.52690962,\n",
              "       20.94071229, 20.44489658, 24.77678169, 33.77299778,  7.02038331,\n",
              "       24.55379254, 36.73923493, 16.09878612, 18.14663987, 20.48899554,\n",
              "       18.7928142 , 22.45683561, 26.19154506, 23.36585592, 28.89583791,\n",
              "       17.48243942, 16.05642916, 26.69532678, 28.1393996 , 35.04164989,\n",
              "       20.05308052, 36.25269116, 38.51475052, 25.13506119, 41.49062194,\n",
              "       34.65500235, 25.33950895])"
            ]
          },
          "metadata": {},
          "execution_count": 18
        }
      ]
    },
    {
      "cell_type": "code",
      "source": [
        "y_test"
      ],
      "metadata": {
        "colab": {
          "base_uri": "https://localhost:8080/"
        },
        "id": "Q2LX6Pez29Bu",
        "outputId": "94ebebee-25a7-42c2-a443-1db6b40b9c99"
      },
      "execution_count": null,
      "outputs": [
        {
          "output_type": "execute_result",
          "data": {
            "text/plain": [
              "array([ 7.2, 18.8, 19. , 27. , 22.2, 24.5, 31.2, 22.9, 20.5, 23.2, 18.6,\n",
              "       14.5, 17.8, 50. , 20.8, 24.3, 24.2, 19.8, 19.1, 22.7, 12. , 10.2,\n",
              "       20. , 18.5, 20.9, 23. , 27.5, 30.1,  9.5, 22. , 21.2, 14.1, 33.1,\n",
              "       23.4, 20.1,  7.4, 15.4, 23.8, 20.1, 24.5, 33. , 28.4, 14.1, 46.7,\n",
              "       32.5, 29.6, 28.4, 19.8, 20.2, 25. , 35.4, 20.3,  9.7, 14.5, 34.9,\n",
              "       26.6,  7.2, 50. , 32.4, 21.6, 29.8, 13.1, 27.5, 21.2, 23.1, 21.9,\n",
              "       13. , 23.2,  8.1,  5.6, 21.7, 29.6, 19.6,  7. , 26.4, 18.9, 20.9,\n",
              "       28.1, 35.4, 10.2, 24.3, 43.1, 17.6, 15.4, 16.2, 27.1, 21.4, 21.5,\n",
              "       22.4, 25. , 16.6, 18.6, 22. , 42.8, 35.1, 21.5, 36. , 21.9, 24.1,\n",
              "       50. , 26.7, 25. ])"
            ]
          },
          "metadata": {},
          "execution_count": 19
        }
      ]
    },
    {
      "cell_type": "code",
      "source": [
        "plt.plot(y_pred,label='pred')\n",
        "plt.plot(y_test,label='test')\n",
        "plt.legend()\n",
        "plt.show()"
      ],
      "metadata": {
        "colab": {
          "base_uri": "https://localhost:8080/",
          "height": 265
        },
        "id": "A8dWZyJW29Ig",
        "outputId": "0d1e405b-cb53-4dd5-f2bb-e744cd220abb"
      },
      "execution_count": null,
      "outputs": [
        {
          "output_type": "display_data",
          "data": {
            "text/plain": [
              "<Figure size 432x288 with 1 Axes>"
            ],
            "image/png": "[encoded data removed]"
          },
          "metadata": {
            "needs_background": "light"
          }
        }
      ]
    },
    {
      "cell_type": "code",
      "source": [
        "from sklearn.metrics import r2_score\n",
        "r2_score(y_test,y_pred)"
      ],
      "metadata": {
        "colab": {
          "base_uri": "https://localhost:8080/"
        },
        "id": "WWvuKGr74gIS",
        "outputId": "4b3d1b69-f99a-4b81-d205-fcea3032c6c5"
      },
      "execution_count": null,
      "outputs": [
        {
          "output_type": "execute_result",
          "data": {
            "text/plain": [
              "0.7213535934621562"
            ]
          },
          "metadata": {},
          "execution_count": 21
        }
      ]
    },
    {
      "cell_type": "code",
      "source": [
        ""
      ],
      "metadata": {
        "id": "N5s_whhhI3kX"
      },
      "execution_count": null,
      "outputs": []
    },
    {
      "cell_type": "code",
      "source": [
        ""
      ],
      "metadata": {
        "id": "Js27j1DSI3sw"
      },
      "execution_count": null,
      "outputs": []
    },
    {
      "cell_type": "code",
      "source": [
        ""
      ],
      "metadata": {
        "id": "q3irxYZOI30C"
      },
      "execution_count": null,
      "outputs": []
    },
    {
      "cell_type": "code",
      "source": [
        ""
      ],
      "metadata": {
        "id": "X3jYKAt94gOx"
      },
      "execution_count": null,
      "outputs": []
    },
    {
      "cell_type": "code",
      "source": [
        "(X,Y),(x,y)=tf.keras.datasets.boston_housing.load_data()#data.load_data()\n",
        "X.shape\n"
      ],
      "metadata": {
        "colab": {
          "base_uri": "https://localhost:8080/"
        },
        "id": "aTsW5UO84gVZ",
        "outputId": "93c8d579-3304-4efd-893f-cfd5723f9649"
      },
      "execution_count": null,
      "outputs": [
        {
          "output_type": "execute_result",
          "data": {
            "text/plain": [
              "(404, 13)"
            ]
          },
          "metadata": {},
          "execution_count": 31
        }
      ]
    },
    {
      "cell_type": "code",
      "source": [
        "\n",
        "X= tf.cast(X, tf.float32)\n",
        "Y= tf.cast(Y, tf.float32)\n",
        "x= tf.cast(x, tf.float32)\n",
        "y= tf.cast(y, tf.float32)\n",
        "#X=tf.cast(X_train_scaled, tf.float32)\n",
        "#x=tf.cast(X_test_scaled,tf.float32)\n",
        "#print(X.dtype,Y.dtype,x.dtype,y.dtype)\n",
        "#print(X_train_scaled.dtype)\n"
      ],
      "metadata": {
        "id": "-N3H5PDy_z4h"
      },
      "execution_count": null,
      "outputs": []
    },
    {
      "cell_type": "code",
      "source": [
        "class linear_reg:\n",
        "  \n",
        "  def __init__(self):\n",
        "    self.w = tf.Variable(tf.ones((13,1)),dtype=tf.float32)\n",
        "    self.b = tf.Variable(tf.ones(1))\n",
        "    self.lr = 0.1\n",
        "    self.optimizer=tf.optimizers.Adam(self.lr)\n",
        "\n",
        "  def predict(self,data):\n",
        "    return tf.matmul(data,self.w) + self.b\n",
        "  \n",
        "\n",
        "  def train(self,x,y,val_x,val_y,epochs = 200):\n",
        "    @tf.function\n",
        "    def update(data,label):\n",
        "        cost=lambda :tf.reduce_sum((self.predict(data)-label)**2)/1000000\n",
        "        self.optimizer.minimize(cost,[self.w,self.b])\n",
        "\n",
        "    losses = []\n",
        "    while epochs:\n",
        "      update(X,Y)\n",
        "      if(epochs%20):\n",
        "        pred=self.predict(X)\n",
        "\n",
        "        print(\"\\rloss {}\".format(tf.reduce_sum((pred-Y)**2)/1000000),end='')\n",
        "      \n",
        "      epochs-=1\n",
        "      \n",
        "\n",
        "  def plot(self,x,y,val_x,val_y):\n",
        "    fig = plt.figure()\n",
        "    ax = fig.add_subplot(111,projection = '3d')\n",
        "    ax.set_xlabel('x1')\n",
        "    ax.set_ylabel('x2')\n",
        "    ax.set_zlabel('y')\n",
        "\n",
        "    # ax.scatter(x[:,0],x[:,1],y,c = 'red',label = 'ground_truth')\n",
        "    # pred = self.predict(x)\n",
        "\n",
        "    # ax.scatter(x[:,0],x[:,1],pred,c = 'blue',label = 'predictions')\n",
        "    # ax.legend()\n",
        "    # plt.show()\n",
        "\n",
        "    ax.scatter(x[:,0],x[:,1],y,c = 'red',label = 'ground_truth')\n",
        "    pred = self.predict(x)\n",
        "\n",
        "    ax.scatter(x[:,0],x[:,1],pred,c = 'blue',label = 'predictions')\n",
        "    ax.legend()\n",
        "    plt.show()\n",
        "\n"
      ],
      "metadata": {
        "id": "4RhnY4aJfHt8"
      },
      "execution_count": null,
      "outputs": []
    },
    {
      "cell_type": "code",
      "source": [
        "X[0]"
      ],
      "metadata": {
        "colab": {
          "base_uri": "https://localhost:8080/"
        },
        "id": "AC2wJNTk-V0U",
        "outputId": "eebbad8b-5b05-430c-8eec-bf171b33b6ca"
      },
      "execution_count": null,
      "outputs": [
        {
          "output_type": "execute_result",
          "data": {
            "text/plain": [
              "<tf.Tensor: shape=(13,), dtype=float32, numpy=\n",
              "array([  1.23247,   0.     ,   8.14   ,   0.     ,   0.538  ,   6.142  ,\n",
              "        91.7    ,   3.9769 ,   4.     , 307.     ,  21.     , 396.9    ,\n",
              "        18.72   ], dtype=float32)>"
            ]
          },
          "metadata": {},
          "execution_count": 75
        }
      ]
    },
    {
      "cell_type": "code",
      "source": [
        "model = linear_reg()\n",
        "X__ = tf.cast(X, tf.float32)\n",
        "tf.matmul(X__, model.w) + model.b"
      ],
      "metadata": {
        "colab": {
          "base_uri": "https://localhost:8080/"
        },
        "id": "jdDLB8RH9wpT",
        "outputId": "cb297ac3-de95-4a1e-bace-c1bce947968f"
      },
      "execution_count": null,
      "outputs": [
        {
          "output_type": "execute_result",
          "data": {
            "text/plain": [
              "<tf.Tensor: shape=(404, 1), dtype=float32, numpy=\n",
              "array([[ 860.34937],\n",
              "       [ 878.73676],\n",
              "       [1219.9117 ],\n",
              "       [ 707.37695],\n",
              "       [1237.1293 ],\n",
              "       [ 808.356  ],\n",
              "       [1266.8033 ],\n",
              "       [ 978.4482 ],\n",
              "       [ 739.37067],\n",
              "       [1025.1111 ],\n",
              "       [1244.0518 ],\n",
              "       [ 918.04987],\n",
              "       [ 831.55725],\n",
              "       [1198.3933 ],\n",
              "       [ 726.2386 ],\n",
              "       [ 948.3427 ],\n",
              "       [1238.1981 ],\n",
              "       [ 858.9874 ],\n",
              "       [ 902.7115 ],\n",
              "       [ 913.71344],\n",
              "       [ 887.74585],\n",
              "       [ 786.4517 ],\n",
              "       [ 937.32916],\n",
              "       [ 811.8993 ],\n",
              "       [ 732.4154 ],\n",
              "       [1264.8865 ],\n",
              "       [ 839.3848 ],\n",
              "       [ 740.4784 ],\n",
              "       [ 834.8349 ],\n",
              "       [ 919.9917 ],\n",
              "       [ 838.6031 ],\n",
              "       [1237.9285 ],\n",
              "       [1118.9894 ],\n",
              "       [ 775.89557],\n",
              "       [ 778.5366 ],\n",
              "       [ 775.0702 ],\n",
              "       [ 758.20215],\n",
              "       [ 824.43787],\n",
              "       [ 786.08624],\n",
              "       [ 906.52966],\n",
              "       [1277.7247 ],\n",
              "       [ 682.7492 ],\n",
              "       [ 702.2202 ],\n",
              "       [1183.1453 ],\n",
              "       [1258.9719 ],\n",
              "       [ 857.4819 ],\n",
              "       [ 993.45575],\n",
              "       [ 833.10345],\n",
              "       [ 815.95636],\n",
              "       [1253.1416 ],\n",
              "       [ 731.4367 ],\n",
              "       [ 891.7644 ],\n",
              "       [ 818.5248 ],\n",
              "       [ 792.8802 ],\n",
              "       [ 911.9277 ],\n",
              "       [ 717.7477 ],\n",
              "       [ 933.96686],\n",
              "       [ 941.8247 ],\n",
              "       [ 777.3543 ],\n",
              "       [ 762.295  ],\n",
              "       [ 720.6441 ],\n",
              "       [ 744.9841 ],\n",
              "       [1242.9326 ],\n",
              "       [ 934.42816],\n",
              "       [ 899.2762 ],\n",
              "       [ 948.6559 ],\n",
              "       [ 873.2632 ],\n",
              "       [1265.7354 ],\n",
              "       [1193.1919 ],\n",
              "       [ 829.9437 ],\n",
              "       [ 714.1218 ],\n",
              "       [ 977.67413],\n",
              "       [ 901.48145],\n",
              "       [ 840.3049 ],\n",
              "       [ 718.69666],\n",
              "       [ 881.57837],\n",
              "       [ 881.1149 ],\n",
              "       [1004.15216],\n",
              "       [ 842.15924],\n",
              "       [ 978.9167 ],\n",
              "       [ 771.3948 ],\n",
              "       [ 764.4875 ],\n",
              "       [ 689.0132 ],\n",
              "       [ 823.5602 ],\n",
              "       [ 989.78345],\n",
              "       [ 703.3608 ],\n",
              "       [1256.2168 ],\n",
              "       [ 784.5922 ],\n",
              "       [ 969.84644],\n",
              "       [ 855.99927],\n",
              "       [1221.3319 ],\n",
              "       [ 780.2982 ],\n",
              "       [ 785.55066],\n",
              "       [ 714.73987],\n",
              "       [ 789.13007],\n",
              "       [ 809.32434],\n",
              "       [ 951.2929 ],\n",
              "       [ 738.88306],\n",
              "       [ 767.27246],\n",
              "       [ 717.8901 ],\n",
              "       [ 704.3711 ],\n",
              "       [ 814.53766],\n",
              "       [ 816.19434],\n",
              "       [ 668.02637],\n",
              "       [ 900.9128 ],\n",
              "       [ 814.59503],\n",
              "       [1168.9052 ],\n",
              "       [ 713.1106 ],\n",
              "       [ 837.7146 ],\n",
              "       [ 825.31055],\n",
              "       [ 926.99774],\n",
              "       [ 925.0701 ],\n",
              "       [ 964.20026],\n",
              "       [ 926.8932 ],\n",
              "       [ 873.41113],\n",
              "       [ 717.04626],\n",
              "       [1175.9011 ],\n",
              "       [ 855.5701 ],\n",
              "       [ 924.7894 ],\n",
              "       [ 861.06134],\n",
              "       [ 808.1368 ],\n",
              "       [ 823.65735],\n",
              "       [ 889.0534 ],\n",
              "       [ 795.49945],\n",
              "       [1333.3417 ],\n",
              "       [ 695.316  ],\n",
              "       [ 899.7096 ],\n",
              "       [ 885.8785 ],\n",
              "       [ 801.0096 ],\n",
              "       [ 861.0032 ],\n",
              "       [ 717.68274],\n",
              "       [ 946.30194],\n",
              "       [ 809.9404 ],\n",
              "       [ 920.37634],\n",
              "       [ 875.8126 ],\n",
              "       [ 737.0748 ],\n",
              "       [1270.9895 ],\n",
              "       [ 800.45355],\n",
              "       [ 809.5653 ],\n",
              "       [1312.9722 ],\n",
              "       [ 796.79083],\n",
              "       [ 933.62494],\n",
              "       [1251.292  ],\n",
              "       [1002.3639 ],\n",
              "       [ 811.2473 ],\n",
              "       [ 833.1449 ],\n",
              "       [ 806.63245],\n",
              "       [1240.6193 ],\n",
              "       [ 908.40216],\n",
              "       [ 745.97174],\n",
              "       [ 847.6688 ],\n",
              "       [ 844.37915],\n",
              "       [ 782.87823],\n",
              "       [ 802.6654 ],\n",
              "       [ 751.7218 ],\n",
              "       [ 907.52295],\n",
              "       [1220.9006 ],\n",
              "       [ 775.9813 ],\n",
              "       [ 993.57684],\n",
              "       [ 783.12585],\n",
              "       [ 865.35913],\n",
              "       [ 793.8843 ],\n",
              "       [ 848.5407 ],\n",
              "       [ 735.45337],\n",
              "       [ 905.03894],\n",
              "       [1193.0233 ],\n",
              "       [ 708.7593 ],\n",
              "       [ 760.21405],\n",
              "       [ 783.14484],\n",
              "       [1279.3857 ],\n",
              "       [ 788.16016],\n",
              "       [ 820.95404],\n",
              "       [1196.646  ],\n",
              "       [ 872.3647 ],\n",
              "       [ 809.73773],\n",
              "       [1001.4401 ],\n",
              "       [ 898.1383 ],\n",
              "       [ 670.0694 ],\n",
              "       [ 754.7895 ],\n",
              "       [ 828.50476],\n",
              "       [1256.2101 ],\n",
              "       [ 750.44214],\n",
              "       [ 809.23505],\n",
              "       [ 906.5649 ],\n",
              "       [ 888.18744],\n",
              "       [1163.5524 ],\n",
              "       [ 963.6864 ],\n",
              "       [ 845.3827 ],\n",
              "       [ 820.9305 ],\n",
              "       [ 820.33057],\n",
              "       [ 765.59424],\n",
              "       [ 803.09357],\n",
              "       [ 803.37537],\n",
              "       [ 769.9162 ],\n",
              "       [ 727.35815],\n",
              "       [ 847.9877 ],\n",
              "       [ 833.44434],\n",
              "       [1278.1753 ],\n",
              "       [ 731.4715 ],\n",
              "       [ 794.79645],\n",
              "       [ 820.6003 ],\n",
              "       [ 977.1696 ],\n",
              "       [ 805.1964 ],\n",
              "       [ 781.57513],\n",
              "       [ 848.0673 ],\n",
              "       [1252.0648 ],\n",
              "       [ 856.1633 ],\n",
              "       [ 785.6029 ],\n",
              "       [ 902.9371 ],\n",
              "       [ 898.64703],\n",
              "       [ 721.20294],\n",
              "       [ 868.2408 ],\n",
              "       [ 925.9398 ],\n",
              "       [ 858.8944 ],\n",
              "       [1266.5056 ],\n",
              "       [ 770.34906],\n",
              "       [ 767.69336],\n",
              "       [ 935.29047],\n",
              "       [ 925.55194],\n",
              "       [ 840.6525 ],\n",
              "       [1240.0168 ],\n",
              "       [1261.9198 ],\n",
              "       [ 756.1501 ],\n",
              "       [ 813.22797],\n",
              "       [1213.8782 ],\n",
              "       [ 703.8006 ],\n",
              "       [ 794.70374],\n",
              "       [1222.4867 ],\n",
              "       [ 913.37115],\n",
              "       [1189.4681 ],\n",
              "       [ 819.18665],\n",
              "       [ 998.75446],\n",
              "       [ 785.1957 ],\n",
              "       [ 805.6374 ],\n",
              "       [ 803.62396],\n",
              "       [ 832.22943],\n",
              "       [ 652.3761 ],\n",
              "       [ 860.6284 ],\n",
              "       [1227.6625 ],\n",
              "       [1266.4493 ],\n",
              "       [ 896.2998 ],\n",
              "       [1285.693  ],\n",
              "       [ 799.3053 ],\n",
              "       [ 959.3998 ],\n",
              "       [ 858.72675],\n",
              "       [ 720.03937],\n",
              "       [ 780.91583],\n",
              "       [1223.1519 ],\n",
              "       [1302.7773 ],\n",
              "       [1212.16   ],\n",
              "       [ 829.62476],\n",
              "       [ 891.559  ],\n",
              "       [1270.9668 ],\n",
              "       [1232.8129 ],\n",
              "       [1096.3472 ],\n",
              "       [ 886.58325],\n",
              "       [ 843.61523],\n",
              "       [ 805.59174],\n",
              "       [1183.3126 ],\n",
              "       [ 795.0646 ],\n",
              "       [ 728.79333],\n",
              "       [ 932.3076 ],\n",
              "       [ 783.3451 ],\n",
              "       [ 852.6843 ],\n",
              "       [ 779.88544],\n",
              "       [1005.3729 ],\n",
              "       [ 854.7133 ],\n",
              "       [ 878.26465],\n",
              "       [ 744.71387],\n",
              "       [ 778.0496 ],\n",
              "       [ 642.21356],\n",
              "       [ 782.8452 ],\n",
              "       [ 768.86304],\n",
              "       [1194.9603 ],\n",
              "       [ 884.02075],\n",
              "       [ 788.007  ],\n",
              "       [ 817.01807],\n",
              "       [ 817.9262 ],\n",
              "       [ 846.89655],\n",
              "       [ 718.83466],\n",
              "       [ 835.8301 ],\n",
              "       [ 842.3237 ],\n",
              "       [1274.5165 ],\n",
              "       [ 925.79755],\n",
              "       [ 942.34375],\n",
              "       [1278.8263 ],\n",
              "       [1279.325  ],\n",
              "       [ 963.1566 ],\n",
              "       [1250.9153 ],\n",
              "       [ 831.7322 ],\n",
              "       [1222.2284 ],\n",
              "       [ 929.7335 ],\n",
              "       [ 915.3406 ],\n",
              "       [ 799.6358 ],\n",
              "       [ 732.7089 ],\n",
              "       [ 831.40094],\n",
              "       [ 804.8932 ],\n",
              "       [1256.9655 ],\n",
              "       [ 910.51294],\n",
              "       [1111.502  ],\n",
              "       [1161.8602 ],\n",
              "       [ 737.0018 ],\n",
              "       [1046.0314 ],\n",
              "       [ 695.10876],\n",
              "       [1176.9412 ],\n",
              "       [ 827.6538 ],\n",
              "       [ 876.2401 ],\n",
              "       [1186.1508 ],\n",
              "       [ 759.45544],\n",
              "       [ 831.3361 ],\n",
              "       [ 788.9998 ],\n",
              "       [ 892.5503 ],\n",
              "       [ 756.097  ],\n",
              "       [ 887.5747 ],\n",
              "       [ 819.0697 ],\n",
              "       [ 927.1546 ],\n",
              "       [ 985.6091 ],\n",
              "       [ 821.8804 ],\n",
              "       [ 798.01917],\n",
              "       [1239.6093 ],\n",
              "       [ 923.7276 ],\n",
              "       [1192.5999 ],\n",
              "       [ 823.1852 ],\n",
              "       [1228.3938 ],\n",
              "       [ 924.35333],\n",
              "       [ 919.34894],\n",
              "       [ 819.9243 ],\n",
              "       [ 771.252  ],\n",
              "       [1211.9166 ],\n",
              "       [ 913.44995],\n",
              "       [ 740.178  ],\n",
              "       [1167.8265 ],\n",
              "       [ 755.9729 ],\n",
              "       [ 784.1372 ],\n",
              "       [1199.6802 ],\n",
              "       [ 999.6308 ],\n",
              "       [ 801.66223],\n",
              "       [ 737.07513],\n",
              "       [1260.5548 ],\n",
              "       [ 918.03   ],\n",
              "       [ 830.85876],\n",
              "       [1189.9595 ],\n",
              "       [ 786.6828 ],\n",
              "       [ 835.91174],\n",
              "       [ 942.611  ],\n",
              "       [ 921.76825],\n",
              "       [ 851.3901 ],\n",
              "       [1249.5513 ],\n",
              "       [ 828.75183],\n",
              "       [ 743.514  ],\n",
              "       [ 952.95337],\n",
              "       [ 889.3146 ],\n",
              "       [ 874.17535],\n",
              "       [ 791.3439 ],\n",
              "       [1220.5006 ],\n",
              "       [ 884.95874],\n",
              "       [ 759.9494 ],\n",
              "       [ 866.96484],\n",
              "       [1215.6843 ],\n",
              "       [ 889.9507 ],\n",
              "       [1001.17053],\n",
              "       [ 745.7321 ],\n",
              "       [ 830.17786],\n",
              "       [ 776.90485],\n",
              "       [1138.6741 ],\n",
              "       [ 802.25885],\n",
              "       [ 802.2839 ],\n",
              "       [ 807.0255 ],\n",
              "       [ 811.64484],\n",
              "       [ 866.4135 ],\n",
              "       [ 873.31256],\n",
              "       [ 748.86194],\n",
              "       [ 826.89655],\n",
              "       [ 709.24805],\n",
              "       [ 810.5432 ],\n",
              "       [ 687.9548 ],\n",
              "       [ 771.34515],\n",
              "       [1105.7737 ],\n",
              "       [ 728.5383 ],\n",
              "       [ 895.8255 ],\n",
              "       [ 803.07666],\n",
              "       [ 982.5956 ],\n",
              "       [1004.54755],\n",
              "       [ 840.50665],\n",
              "       [ 838.3608 ],\n",
              "       [ 754.40735],\n",
              "       [1249.9738 ],\n",
              "       [ 904.2814 ],\n",
              "       [ 770.1055 ],\n",
              "       [1005.0494 ],\n",
              "       [1005.9711 ],\n",
              "       [ 778.19806],\n",
              "       [ 764.4544 ],\n",
              "       [1241.6127 ],\n",
              "       [1241.1172 ],\n",
              "       [1007.1663 ],\n",
              "       [ 910.99866],\n",
              "       [ 780.92957],\n",
              "       [1288.6112 ],\n",
              "       [ 749.26746],\n",
              "       [ 703.64514],\n",
              "       [ 770.4843 ],\n",
              "       [ 829.8724 ],\n",
              "       [ 758.64905]], dtype=float32)>"
            ]
          },
          "metadata": {},
          "execution_count": 76
        }
      ]
    },
    {
      "cell_type": "code",
      "source": [
        "\n",
        "model=linear_reg()\n",
        "model.train(X,Y,x,y,1500)"
      ],
      "metadata": {
        "colab": {
          "base_uri": "https://localhost:8080/"
        },
        "id": "wQF2Q9U8fbnr",
        "outputId": "f03704a8-fc8c-4ca2-e9f7-1d41df5c07ee"
      },
      "execution_count": null,
      "outputs": [
        {
          "output_type": "stream",
          "name": "stdout",
          "text": [
            "loss 14.120896339416504"
          ]
        }
      ]
    },
    {
      "cell_type": "code",
      "source": [
        "model.plot(X,Y,x,y)"
      ],
      "metadata": {
        "id": "c-N6PF8Ef_oU",
        "colab": {
          "base_uri": "https://localhost:8080/",
          "height": 248
        },
        "outputId": "a875bc7b-0730-406e-89af-f94b8d24cb9c"
      },
      "execution_count": null,
      "outputs": [
        {
          "output_type": "display_data",
          "data": {
            "text/plain": [
              "<Figure size 432x288 with 1 Axes>"
            ],
            "image/png": "[encoded data removed]"
          },
          "metadata": {
            "needs_background": "light"
          }
        }
      ]
    },
    {
      "cell_type": "code",
      "source": [
        "from sklearn.metrics import r2_score\n",
        "pred=model.predict(x)\n",
        "r2_score(y,pred)"
      ],
      "metadata": {
        "colab": {
          "base_uri": "https://localhost:8080/"
        },
        "id": "PZYDPTv6F2rS",
        "outputId": "2f9e2c6f-0789-43d0-f50a-81f9a15c944b"
      },
      "execution_count": null,
      "outputs": [
        {
          "output_type": "execute_result",
          "data": {
            "text/plain": [
              "-0.15832907140749297"
            ]
          },
          "metadata": {},
          "execution_count": 79
        }
      ]
    },
    {
      "cell_type": "code",
      "source": [
        ""
      ],
      "metadata": {
        "id": "8v6D9_OOF6_f"
      },
      "execution_count": null,
      "outputs": []
    }
  ]
}